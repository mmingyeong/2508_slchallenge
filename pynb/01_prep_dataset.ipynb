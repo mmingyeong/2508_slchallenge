{
 "cells": [
  {
   "cell_type": "code",
   "execution_count": 1,
   "id": "05d4237c-2fed-4dd6-a6a8-f30c39f11eac",
   "metadata": {
    "execution": {
     "iopub.execute_input": "2025-08-28T05:51:23.879019Z",
     "iopub.status.busy": "2025-08-28T05:51:23.878645Z",
     "iopub.status.idle": "2025-08-28T05:51:30.771844Z",
     "shell.execute_reply": "2025-08-28T05:51:30.771068Z",
     "shell.execute_reply.started": "2025-08-28T05:51:23.878981Z"
    }
   },
   "outputs": [
    {
     "name": "stdout",
     "output_type": "stream",
     "text": [
      "총 파일 수: 1000000\n",
      "렌즈 수: 500000\n",
      "비렌즈 수: 500000\n"
     ]
    }
   ],
   "source": [
    "import numpy as np\n",
    "from pathlib import Path\n",
    "from astropy.io import fits\n",
    "from sklearn.model_selection import train_test_split\n",
    "import torch\n",
    "from torch.utils.data import Dataset, DataLoader\n",
    "\n",
    "# -----------------------------\n",
    "# 1. 경로 설정\n",
    "# -----------------------------\n",
    "CLASS_PATHS = {\n",
    "    \"slsim_lenses\": \"/caefs/data/IllustrisTNG/slchallenge/slsim_lenses/slsim_lenses\",\n",
    "    \"slsim_nonlenses\": \"/caefs/data/IllustrisTNG/slchallenge/slsim_nonlenses/slsim_nonlenses\",\n",
    "    \"hsc_lenses\": \"/caefs/data/IllustrisTNG/slchallenge/hsc_lenses/hsc_lenses\",\n",
    "    \"hsc_nonlenses\": \"/caefs/data/IllustrisTNG/slchallenge/hsc_nonlenses/hsc_nonlenses\",\n",
    "}\n",
    "\n",
    "# -----------------------------\n",
    "# 2. 파일 리스트와 라벨 준비\n",
    "# -----------------------------\n",
    "def prepare_file_list():\n",
    "    files, labels = [], []\n",
    "    for cls, path in CLASS_PATHS.items():\n",
    "        if \"nonlenses\" in cls:  # 먼저 비렌즈 확인\n",
    "            label = 0\n",
    "        else:                   # 그 외는 렌즈\n",
    "            label = 1\n",
    "        for f in Path(path).glob(\"*.fits\"):\n",
    "            files.append(str(f))\n",
    "            labels.append(label)\n",
    "    return np.array(files), np.array(labels)\n",
    "\n",
    "\n",
    "files, labels = prepare_file_list()\n",
    "print(f\"총 파일 수: {len(files)}\")\n",
    "print(f\"렌즈 수: {labels.sum()}\")\n",
    "print(f\"비렌즈 수: {len(labels) - labels.sum()}\")\n",
    "\n"
   ]
  },
  {
   "cell_type": "code",
   "execution_count": 4,
   "id": "a1e74980-a746-4a62-b630-1e13f6aa261f",
   "metadata": {
    "execution": {
     "iopub.execute_input": "2025-08-28T05:52:41.368150Z",
     "iopub.status.busy": "2025-08-28T05:52:41.367675Z",
     "iopub.status.idle": "2025-08-28T05:52:42.119346Z",
     "shell.execute_reply": "2025-08-28T05:52:42.118204Z",
     "shell.execute_reply.started": "2025-08-28T05:52:41.368118Z"
    },
    "tags": []
   },
   "outputs": [],
   "source": [
    "\n",
    "# -----------------------------\n",
    "# 3. Train/Val/Test Split\n",
    "# -----------------------------\n",
    "# 첫 번째 split: test 15%\n",
    "train_files, test_files, train_labels, test_labels = train_test_split(\n",
    "    files, labels, test_size=0.15, stratify=labels, random_state=42\n",
    ")\n",
    "\n",
    "# 두 번째 split: 남은 데이터 중 15/85 ≈ 0.1765 → 15%를 유지하려면 0.1765 비율로 split\n",
    "train_files, val_files, train_labels, val_labels = train_test_split(\n",
    "    train_files, train_labels, test_size=0.1765, stratify=train_labels, random_state=42\n",
    ")\n",
    "\n",
    "# -----------------------------\n",
    "# 4. PyTorch Dataset 정의\n",
    "# -----------------------------\n",
    "class LensDataset(Dataset):\n",
    "    def __init__(self, file_list, labels, transform=None):\n",
    "        self.file_list = file_list\n",
    "        self.labels = labels\n",
    "        self.transform = transform\n",
    "\n",
    "    def __len__(self):\n",
    "        return len(self.file_list)\n",
    "\n",
    "    def __getitem__(self, idx):\n",
    "        # FITS 이미지 로드\n",
    "        with fits.open(self.file_list[idx]) as hdul:\n",
    "            img = np.array(hdul[1].data[0][1]).reshape(41, 41)\n",
    "\n",
    "        # 정규화: Z-score\n",
    "        img = (img - img.mean()) / (img.std() + 1e-8)\n",
    "\n",
    "        # 채널 차원 추가 (1, H, W)\n",
    "        img = torch.tensor(img, dtype=torch.float32).unsqueeze(0)\n",
    "        label = torch.tensor(self.labels[idx], dtype=torch.long)\n",
    "\n",
    "        # 추가 변환 (증강 등)\n",
    "        if self.transform:\n",
    "            img = self.transform(img)\n",
    "\n",
    "        return img, label\n"
   ]
  },
  {
   "cell_type": "code",
   "execution_count": 5,
   "id": "12405590-9553-404c-a9f0-d886c95a8370",
   "metadata": {
    "execution": {
     "iopub.execute_input": "2025-08-28T05:52:43.064398Z",
     "iopub.status.busy": "2025-08-28T05:52:43.064009Z",
     "iopub.status.idle": "2025-08-28T05:52:43.074450Z",
     "shell.execute_reply": "2025-08-28T05:52:43.073201Z",
     "shell.execute_reply.started": "2025-08-28T05:52:43.064365Z"
    },
    "tags": []
   },
   "outputs": [
    {
     "name": "stdout",
     "output_type": "stream",
     "text": [
      "Train: 699975, Val: 150025, Test: 150000\n"
     ]
    }
   ],
   "source": [
    "# -----------------------------\n",
    "# 5. DataLoader 준비\n",
    "# -----------------------------\n",
    "train_dataset = LensDataset(train_files, train_labels)\n",
    "val_dataset = LensDataset(val_files, val_labels)\n",
    "test_dataset = LensDataset(test_files, test_labels)\n",
    "\n",
    "train_loader = DataLoader(train_dataset, batch_size=64, shuffle=True, num_workers=4)\n",
    "val_loader = DataLoader(val_dataset, batch_size=64, shuffle=False, num_workers=4)\n",
    "test_loader = DataLoader(test_dataset, batch_size=64, shuffle=False, num_workers=4)\n",
    "\n",
    "print(f\"Train: {len(train_dataset)}, Val: {len(val_dataset)}, Test: {len(test_dataset)}\")\n"
   ]
  },
  {
   "cell_type": "code",
   "execution_count": null,
   "id": "4c1dec6e-5490-4f07-a80b-fc9326a87385",
   "metadata": {},
   "outputs": [],
   "source": []
  }
 ],
 "metadata": {
  "kernelspec": {
   "display_name": "Python (py312)",
   "language": "python",
   "name": "py312"
  },
  "language_info": {
   "codemirror_mode": {
    "name": "ipython",
    "version": 3
   },
   "file_extension": ".py",
   "mimetype": "text/x-python",
   "name": "python",
   "nbconvert_exporter": "python",
   "pygments_lexer": "ipython3",
   "version": "3.12.0"
  }
 },
 "nbformat": 4,
 "nbformat_minor": 5
}
