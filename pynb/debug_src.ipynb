{
 "cells": [
  {
   "cell_type": "code",
   "execution_count": 1,
   "id": "3cfdc295-2636-4426-be4d-67240c2f3ec8",
   "metadata": {
    "execution": {
     "iopub.execute_input": "2025-09-05T06:41:37.590502Z",
     "iopub.status.busy": "2025-09-05T06:41:37.590161Z",
     "iopub.status.idle": "2025-09-05T06:41:37.597469Z",
     "shell.execute_reply": "2025-09-05T06:41:37.596360Z",
     "shell.execute_reply.started": "2025-09-05T06:41:37.590466Z"
    },
    "tags": []
   },
   "outputs": [],
   "source": [
    "# %% [markdown]\n",
    "# # ConvNeXt V2 Strong-Lensing Pipeline — Debug Notebook\n",
    "# - data_loader.py, model.py, utils.py, train.py, predict.py, evaluate.py 점검\n",
    "# - 빠른 smoke test 중심: 작은 샘플 / 1~2 step 학습 / 소규모 평가"
   ]
  },
  {
   "cell_type": "code",
   "execution_count": 2,
   "id": "06031ed7-bc9d-4536-9b93-cade2adfbdd5",
   "metadata": {
    "execution": {
     "iopub.execute_input": "2025-09-05T06:41:37.598852Z",
     "iopub.status.busy": "2025-09-05T06:41:37.598520Z",
     "iopub.status.idle": "2025-09-05T06:41:40.117334Z",
     "shell.execute_reply": "2025-09-05T06:41:40.116094Z",
     "shell.execute_reply.started": "2025-09-05T06:41:37.598822Z"
    },
    "tags": []
   },
   "outputs": [
    {
     "name": "stdout",
     "output_type": "stream",
     "text": [
      "Python: 3.12.0 | packaged by Anaconda, Inc. | (main, Oct  2 2023, 17:29:18) [GCC 11.2.0]\n",
      "Torch : 2.6.0+cu124\n",
      "CUDA  : 12.4\n",
      "GPU   : Quadro RTX 5000\n"
     ]
    }
   ],
   "source": [
    "# %%\n",
    "import os, sys, importlib, time, json\n",
    "import numpy as np\n",
    "import torch\n",
    "\n",
    "print(\"Python:\", sys.version)\n",
    "print(\"Torch :\", torch.__version__)\n",
    "print(\"CUDA  :\", torch.version.cuda)\n",
    "print(\"GPU   :\", torch.cuda.get_device_name(0) if torch.cuda.is_available() else \"CPU only\")\n",
    "\n",
    "# 프로젝트 루트가 현재가 아니라면 아래처럼 경로 추가\n",
    "# sys.path.append(\"/path/to/your/project\")\n"
   ]
  },
  {
   "cell_type": "code",
   "execution_count": 3,
   "id": "ed183125-e424-4ded-a71f-31fca873bcbb",
   "metadata": {
    "execution": {
     "iopub.execute_input": "2025-09-05T06:41:40.120648Z",
     "iopub.status.busy": "2025-09-05T06:41:40.120107Z",
     "iopub.status.idle": "2025-09-05T06:41:40.127680Z",
     "shell.execute_reply": "2025-09-05T06:41:40.126628Z",
     "shell.execute_reply.started": "2025-09-05T06:41:40.120613Z"
    },
    "tags": []
   },
   "outputs": [],
   "source": [
    "# %%\n",
    "# --- 수정 포인트: 데이터 루트 ---\n",
    "SLSIM_LENSES_DIR      = \"/caefs/data/IllustrisTNG/slchallenge/slsim_lenses/slsim_lenses\"\n",
    "SLSIM_NONLENSES_DIR   = \"/caefs/data/IllustrisTNG/slchallenge/slsim_nonlenses/slsim_nonlenses\"\n",
    "HSC_DEG_LENSES_DIR    = \"/caefs/data/IllustrisTNG/slchallenge/hsc_lenses/hsc_lenses\"\n",
    "HSC_DEG_NONLENSES_DIR = \"/caefs/data/IllustrisTNG/slchallenge/hsc_nonlenses/hsc_nonlenses\"\n",
    "\n",
    "CLASS_PATHS = {\n",
    "    \"slsim_lenses\": SLSIM_LENSES_DIR,\n",
    "    \"slsim_nonlenses\": SLSIM_NONLENSES_DIR,\n",
    "    \"hsc_lenses\": HSC_DEG_LENSES_DIR,\n",
    "    \"hsc_nonlenses\": HSC_DEG_NONLENSES_DIR,\n",
    "}\n",
    "\n",
    "\n",
    "DEVICE = \"cuda\" if torch.cuda.is_available() else \"cpu\"\n",
    "BATCH  = 256\n",
    "NUM_WORKERS = 8\n",
    "SEED   = 42\n",
    "\n",
    "# 작은 split로 빠르게 디버그\n",
    "SPLIT = (0.70, 0.15, 0.15)\n",
    "TAKE_TRAIN_FRAC = 0.002  # train의 0.2%만 사용(속도용), 필요시 None\n",
    "CLIP_Q = 99.9            # 상위quantile 클리핑(선택)\n"
   ]
  },
  {
   "cell_type": "code",
   "execution_count": 4,
   "id": "cf86420a-d21d-4bfd-a120-eb922aebdb09",
   "metadata": {
    "execution": {
     "iopub.execute_input": "2025-09-05T06:41:40.129048Z",
     "iopub.status.busy": "2025-09-05T06:41:40.128627Z",
     "iopub.status.idle": "2025-09-05T06:41:45.252932Z",
     "shell.execute_reply": "2025-09-05T06:41:45.251767Z",
     "shell.execute_reply.started": "2025-09-05T06:41:40.129017Z"
    },
    "tags": []
   },
   "outputs": [
    {
     "name": "stderr",
     "output_type": "stream",
     "text": [
      "/home/users/mmingyeong/.local/lib/python3.12/site-packages/tqdm/auto.py:21: TqdmWarning: IProgress not found. Please update jupyter and ipywidgets. See https://ipywidgets.readthedocs.io/en/stable/user_install.html\n",
      "  from .autonotebook import tqdm as notebook_tqdm\n"
     ]
    },
    {
     "name": "stdout",
     "output_type": "stream",
     "text": [
      "✅ imports via 'src.*' ready\n"
     ]
    }
   ],
   "source": [
    "# 0) 패키지 세팅\n",
    "from pathlib import Path\n",
    "import sys, importlib\n",
    "\n",
    "PROJECT_ROOT = Path(\"/caefs/user/mmingyeong/2508_slchallence\")\n",
    "SRC_DIR = PROJECT_ROOT / \"src\"\n",
    "sys.path.insert(0, str(SRC_DIR))\n",
    "\n",
    "# 2) 올바른 임포트 (패키지 경로 사용)\n",
    "import utils as utils\n",
    "import model as model\n",
    "import data_loader as data_loader\n",
    "\n",
    "importlib.reload(utils)\n",
    "importlib.reload(model)\n",
    "importlib.reload(data_loader)\n",
    "\n",
    "from src.model import convnextv2_atto, convnextv2_nano, convnextv2_tiny\n",
    "from src.data_loader import get_dataloaders, LensFITSBinaryDataset\n",
    "\n",
    "print(\"✅ imports via 'src.*' ready\")\n"
   ]
  },
  {
   "cell_type": "code",
   "execution_count": 5,
   "id": "2b8ea16a-2c1e-4859-b3e9-5ebe03b048f7",
   "metadata": {
    "execution": {
     "iopub.execute_input": "2025-09-05T06:41:45.254015Z",
     "iopub.status.busy": "2025-09-05T06:41:45.253701Z",
     "iopub.status.idle": "2025-09-05T06:41:48.849563Z",
     "shell.execute_reply": "2025-09-05T06:41:48.848386Z",
     "shell.execute_reply.started": "2025-09-05T06:41:45.253994Z"
    },
    "tags": []
   },
   "outputs": [
    {
     "name": "stderr",
     "output_type": "stream",
     "text": [
      "2025-09-05 15:41:45,910 [INFO] [data_loader] Collected 249999 from 'slsim_lenses' (/caefs/data/IllustrisTNG/slchallenge/slsim_lenses/slsim_lenses), label=1, domain=slsim\n",
      "2025-09-05 15:41:46,576 [INFO] [data_loader] Collected 250000 from 'slsim_nonlenses' (/caefs/data/IllustrisTNG/slchallenge/slsim_nonlenses/slsim_nonlenses), label=0, domain=slsim\n",
      "2025-09-05 15:41:47,239 [INFO] [data_loader] Collected 250000 from 'hsc_lenses' (/caefs/data/IllustrisTNG/slchallenge/hsc_lenses/hsc_lenses), label=1, domain=hsc\n",
      "2025-09-05 15:41:47,884 [INFO] [data_loader] Collected 249999 from 'hsc_nonlenses' (/caefs/data/IllustrisTNG/slchallenge/hsc_nonlenses/hsc_nonlenses), label=0, domain=hsc\n",
      "2025-09-05 15:41:47,885 [INFO] [data_loader] TOTAL files collected: 999998\n",
      "2025-09-05 15:41:48,786 [INFO] [data_loader] Train subsampling: kept 1399/699998 (0.20%)\n",
      "2025-09-05 15:41:48,789 [INFO] [data_loader] Val subsampling: kept 299/149999 (0.20%)\n",
      "2025-09-05 15:41:48,792 [INFO] [data_loader] Test subsampling: kept 300/150001 (0.20%)\n",
      "2025-09-05 15:41:48,793 [INFO] [data_loader] Dataset: N=1399 | lens=649 | nonlens=750 | augment=False | padding=False(out=41) | normalization=True | clip_q=0.997 | smoothing=none\n",
      "2025-09-05 15:41:48,794 [INFO] [data_loader] Dataset: N=299 | lens=147 | nonlens=152 | augment=False | padding=False(out=41) | normalization=True | clip_q=0.997 | smoothing=none\n",
      "2025-09-05 15:41:48,794 [INFO] [data_loader] Dataset: N=300 | lens=147 | nonlens=153 | augment=False | padding=False(out=41) | normalization=True | clip_q=0.997 | smoothing=none\n",
      "2025-09-05 15:41:48,795 [INFO] [data_loader] Split | Train=1399 | Val=299 | Test=300 | batch=256 | out_size=41 | smoothing=none\n"
     ]
    },
    {
     "name": "stdout",
     "output_type": "stream",
     "text": [
      "1399 299 300\n"
     ]
    }
   ],
   "source": [
    "train_loader, val_loader, test_loader = get_dataloaders(\n",
    "    class_paths=CLASS_PATHS,\n",
    "    batch_size=BATCH,\n",
    "    split=SPLIT,\n",
    "    seed=SEED,\n",
    "    num_workers=NUM_WORKERS,\n",
    "    pin_memory=True,\n",
    "    augment_train=False,\n",
    "    take_train_fraction=0.002,\n",
    "    take_val_fraction=0.002,\n",
    "    take_test_fraction=0.002,\n",
    ")\n",
    "print(len(train_loader.dataset), len(val_loader.dataset), len(test_loader.dataset))\n"
   ]
  },
  {
   "cell_type": "code",
   "execution_count": 6,
   "id": "74fa2629-75c7-4818-ad5d-a662352b88fa",
   "metadata": {
    "execution": {
     "iopub.execute_input": "2025-09-05T06:41:48.850299Z",
     "iopub.status.busy": "2025-09-05T06:41:48.850152Z",
     "iopub.status.idle": "2025-09-05T06:41:49.278717Z",
     "shell.execute_reply": "2025-09-05T06:41:49.277988Z",
     "shell.execute_reply.started": "2025-09-05T06:41:48.850287Z"
    },
    "tags": []
   },
   "outputs": [
    {
     "name": "stdout",
     "output_type": "stream",
     "text": [
      "ConvNeXtV2 ready on cuda\n",
      "Input : torch.Size([4, 1, 41, 41]) torch.float32 cuda:0\n",
      "Output: torch.Size([4, 1]) torch.float32 cuda:0\n"
     ]
    }
   ],
   "source": [
    "# %%\n",
    "# model.py 디버그\n",
    "import torch\n",
    "from src.model import convnextv2_atto, convnextv2_nano, convnextv2_tiny\n",
    "\n",
    "# 모델 생성 (grayscale input, binary classification)\n",
    "model = convnextv2_atto(in_chans=1, num_classes=1).to(DEVICE)\n",
    "print(model.__class__.__name__, \"ready on\", DEVICE)\n",
    "\n",
    "# 가짜 배치 입력 (batch=4, 채널=1, 41x41)\n",
    "x_dummy = torch.randn(4, 1, 41, 41, device=DEVICE)\n",
    "with torch.no_grad():\n",
    "    y_dummy = model(x_dummy)\n",
    "\n",
    "print(\"Input :\", x_dummy.shape, x_dummy.dtype, x_dummy.device)\n",
    "print(\"Output:\", y_dummy.shape, y_dummy.dtype, y_dummy.device)\n"
   ]
  },
  {
   "cell_type": "code",
   "execution_count": 7,
   "id": "e99c3f82-e14e-4c6d-969f-ab10064009e5",
   "metadata": {
    "execution": {
     "iopub.execute_input": "2025-09-05T06:41:49.279439Z",
     "iopub.status.busy": "2025-09-05T06:41:49.279290Z",
     "iopub.status.idle": "2025-09-05T06:41:49.363697Z",
     "shell.execute_reply": "2025-09-05T06:41:49.362641Z",
     "shell.execute_reply.started": "2025-09-05T06:41:49.279426Z"
    },
    "tags": []
   },
   "outputs": [
    {
     "name": "stdout",
     "output_type": "stream",
     "text": [
      "ConvNeXtV2 ready on cuda\n",
      "Input : torch.Size([4, 1, 41, 41]) torch.float32 cuda:0\n",
      "Target: torch.Size([4, 1]) torch.float32 cuda:0\n",
      "Output: torch.Size([4, 1]) torch.float32 cuda:0\n",
      "Loss  : 0.8498209714889526\n"
     ]
    }
   ],
   "source": [
    "# %%\n",
    "# model.py 디버그 with BCEWithLogitsLoss\n",
    "import torch\n",
    "import torch.nn as nn\n",
    "from src.model import convnextv2_atto\n",
    "\n",
    "# 모델 생성 (grayscale input, binary classification)\n",
    "model = convnextv2_atto(in_chans=1, num_classes=1).to(DEVICE)\n",
    "print(model.__class__.__name__, \"ready on\", DEVICE)\n",
    "\n",
    "# 가짜 배치 입력 (batch=4, 채널=1, 41x41)\n",
    "x_dummy = torch.randn(4, 1, 41, 41, device=DEVICE)\n",
    "# 가짜 타겟 (binary label, float tensor for BCEWithLogitsLoss)\n",
    "y_dummy = torch.randint(0, 2, (4, 1), dtype=torch.float32, device=DEVICE)\n",
    "\n",
    "criterion = nn.BCEWithLogitsLoss()\n",
    "\n",
    "with torch.no_grad():\n",
    "    y_pred = model(x_dummy)\n",
    "    loss = criterion(y_pred, y_dummy)\n",
    "\n",
    "print(\"Input :\", x_dummy.shape, x_dummy.dtype, x_dummy.device)\n",
    "print(\"Target:\", y_dummy.shape, y_dummy.dtype, y_dummy.device)\n",
    "print(\"Output:\", y_pred.shape, y_pred.dtype, y_pred.device)\n",
    "print(\"Loss  :\", loss.item())\n"
   ]
  },
  {
   "cell_type": "code",
   "execution_count": 8,
   "id": "851b2a0c-2200-4add-8719-beb195854af8",
   "metadata": {
    "execution": {
     "iopub.execute_input": "2025-09-05T06:41:49.364301Z",
     "iopub.status.busy": "2025-09-05T06:41:49.364167Z",
     "iopub.status.idle": "2025-09-05T06:41:49.367441Z",
     "shell.execute_reply": "2025-09-05T06:41:49.366406Z",
     "shell.execute_reply.started": "2025-09-05T06:41:49.364290Z"
    },
    "tags": []
   },
   "outputs": [],
   "source": [
    "# 250829 할일\n",
    "# 1. train.py debug\n",
    "# 2. predict.py debug\n",
    "# 3. evaluate.py debug"
   ]
  },
  {
   "cell_type": "code",
   "execution_count": 12,
   "id": "0d35e841-801d-4a2b-8c77-680efb228c25",
   "metadata": {
    "execution": {
     "iopub.execute_input": "2025-09-05T06:43:17.823950Z",
     "iopub.status.busy": "2025-09-05T06:43:17.823530Z",
     "iopub.status.idle": "2025-09-05T06:43:53.248842Z",
     "shell.execute_reply": "2025-09-05T06:43:53.247382Z",
     "shell.execute_reply.started": "2025-09-05T06:43:17.823919Z"
    },
    "tags": []
   },
   "outputs": [
    {
     "name": "stdout",
     "output_type": "stream",
     "text": [
      "2025-09-05 15:43:17 [INFO] [train] Logger initialized -> ./_dbg_ckpt_train/train.log\n",
      "2025-09-05 15:43:17 [INFO] [train] 🚀 Configuration\n",
      "2025-09-05 15:43:17 [INFO] [train]   slsim_lenses: /caefs/data/IllustrisTNG/slchallenge/slsim_lenses/slsim_lenses\n",
      "2025-09-05 15:43:17 [INFO] [train]   slsim_nonlenses: /caefs/data/IllustrisTNG/slchallenge/slsim_nonlenses/slsim_nonlenses\n",
      "2025-09-05 15:43:17 [INFO] [train]   hsc_lenses: /caefs/data/IllustrisTNG/slchallenge/hsc_lenses/hsc_lenses\n",
      "2025-09-05 15:43:17 [INFO] [train]   hsc_nonlenses: /caefs/data/IllustrisTNG/slchallenge/hsc_nonlenses/hsc_nonlenses\n",
      "2025-09-05 15:43:17 [INFO] [train]   batch_size: 8\n",
      "2025-09-05 15:43:17 [INFO] [train]   num_workers: 2\n",
      "2025-09-05 15:43:17 [INFO] [train]   no_augment: False\n",
      "2025-09-05 15:43:17 [INFO] [train]   take_train_frac: 0.001\n",
      "2025-09-05 15:43:17 [INFO] [train]   take_val_fraction: 0.001\n",
      "2025-09-05 15:43:17 [INFO] [train]   take_test_fraction: 0.001\n",
      "2025-09-05 15:43:17 [INFO] [train]   apply_padding: True\n",
      "2025-09-05 15:43:17 [INFO] [train]   out_size_when_padded: 64\n",
      "2025-09-05 15:43:17 [INFO] [train]   apply_normalization: True\n",
      "2025-09-05 15:43:17 [INFO] [train]   clip_q: 0.997\n",
      "2025-09-05 15:43:17 [INFO] [train]   low_clip_q: None\n",
      "2025-09-05 15:43:17 [INFO] [train]   use_mad: False\n",
      "2025-09-05 15:43:17 [INFO] [train]   smoothing_mode: none\n",
      "2025-09-05 15:43:17 [INFO] [train]   gaussian_sigma: 0\n",
      "2025-09-05 15:43:17 [INFO] [train]   guided_radius: 0\n",
      "2025-09-05 15:43:17 [INFO] [train]   guided_eps: 0\n",
      "2025-09-05 15:43:17 [INFO] [train]   train_frac: 0.7\n",
      "2025-09-05 15:43:17 [INFO] [train]   val_frac: 0.15\n",
      "2025-09-05 15:43:17 [INFO] [train]   test_frac: 0.15\n",
      "2025-09-05 15:43:17 [INFO] [train]   model_size: atto\n",
      "2025-09-05 15:43:17 [INFO] [train]   drop_path: 0.0\n",
      "2025-09-05 15:43:17 [INFO] [train]   lr: 0.001\n",
      "2025-09-05 15:43:17 [INFO] [train]   weight_decay: 0.0001\n",
      "2025-09-05 15:43:17 [INFO] [train]   cosine: False\n",
      "2025-09-05 15:43:17 [INFO] [train]   warmup_epochs: 0\n",
      "2025-09-05 15:43:17 [INFO] [train]   epochs: 5\n",
      "2025-09-05 15:43:17 [INFO] [train]   patience: 2\n",
      "2025-09-05 15:43:17 [INFO] [train]   min_delta: 0.0\n",
      "2025-09-05 15:43:17 [INFO] [train]   seed: 42\n",
      "2025-09-05 15:43:17 [INFO] [train]   device: cuda\n",
      "2025-09-05 15:43:17 [INFO] [train]   save_dir: ./_dbg_ckpt_train\n",
      "2025-09-05 15:43:17 [INFO] [train]   log_every: 1\n"
     ]
    },
    {
     "name": "stderr",
     "output_type": "stream",
     "text": [
      "                                                                   \r"
     ]
    },
    {
     "name": "stdout",
     "output_type": "stream",
     "text": [
      "2025-09-05 15:43:32 [INFO] [train] ✅ Epoch 1: best model updated (val_loss=0.786020)\n",
      "2025-09-05 15:43:32 [INFO] [train] 📉 Epoch 001/5 | Train Loss 0.7655 Acc 53.22% | Val Loss 0.7860 Acc 49.66% AUC 0.6681 | LR 1.00e-03 | 11.1s\n"
     ]
    },
    {
     "name": "stderr",
     "output_type": "stream",
     "text": [
      "                                                                   \r"
     ]
    },
    {
     "name": "stdout",
     "output_type": "stream",
     "text": [
      "2025-09-05 15:43:37 [INFO] [train] ✅ Epoch 2: best model updated (val_loss=0.693172)\n",
      "2025-09-05 15:43:37 [INFO] [train] 📉 Epoch 002/5 | Train Loss 0.6978 Acc 53.79% | Val Loss 0.6932 Acc 49.66% AUC 0.6750 | LR 1.00e-03 | 4.7s\n"
     ]
    },
    {
     "name": "stderr",
     "output_type": "stream",
     "text": [
      "                                                                   \r"
     ]
    },
    {
     "name": "stdout",
     "output_type": "stream",
     "text": [
      "2025-09-05 15:43:41 [INFO] [train] ✅ Epoch 3: best model updated (val_loss=0.670135)\n",
      "2025-09-05 15:43:41 [INFO] [train] 📉 Epoch 003/5 | Train Loss 0.6681 Acc 58.23% | Val Loss 0.6701 Acc 49.66% AUC 0.6965 | LR 1.00e-03 | 4.7s\n"
     ]
    },
    {
     "name": "stderr",
     "output_type": "stream",
     "text": [
      "                                                                   \r"
     ]
    },
    {
     "name": "stdout",
     "output_type": "stream",
     "text": [
      "2025-09-05 15:43:46 [INFO] [train] ✅ Epoch 4: best model updated (val_loss=0.616354)\n",
      "2025-09-05 15:43:46 [INFO] [train] 📉 Epoch 004/5 | Train Loss 0.6786 Acc 56.94% | Val Loss 0.6164 Acc 62.42% AUC 0.7159 | LR 1.00e-03 | 4.8s\n"
     ]
    },
    {
     "name": "stderr",
     "output_type": "stream",
     "text": [
      "                                                                   \r"
     ]
    },
    {
     "name": "stdout",
     "output_type": "stream",
     "text": [
      "2025-09-05 15:43:51 [INFO] [train] 📉 Epoch 005/5 | Train Loss 0.6515 Acc 62.95% | Val Loss 0.6676 Acc 62.42% AUC 0.6864 | LR 1.00e-03 | 4.5s\n",
      "2025-09-05 15:43:51 [INFO] [train] 🔍 Evaluating on test set (best checkpoint)...\n"
     ]
    },
    {
     "name": "stderr",
     "output_type": "stream",
     "text": [
      "                                                     \r"
     ]
    },
    {
     "name": "stdout",
     "output_type": "stream",
     "text": [
      "2025-09-05 15:43:53 [INFO] [train] ✅ Test | Loss 0.6531 | Acc 62.00% | AUC 0.6453\n"
     ]
    }
   ],
   "source": [
    "# %%\n",
    "# train.py 디버그 블럭 (주피터용)\n",
    "import types\n",
    "import torch\n",
    "import os\n",
    "import sys\n",
    "from pathlib import Path\n",
    "\n",
    "PROJECT_ROOT = Path(\"/caefs/user/mmingyeong/2508_slchallence\")\n",
    "SRC_DIR = PROJECT_ROOT / \"src\"\n",
    "sys.path.insert(0, str(SRC_DIR))\n",
    "\n",
    "import train as train\n",
    "\n",
    "# 가짜 args (argparse.Namespace 대신 SimpleNamespace 사용)\n",
    "args = types.SimpleNamespace(\n",
    "    # 데이터 경로\n",
    "    slsim_lenses      = SLSIM_LENSES_DIR,\n",
    "    slsim_nonlenses   = SLSIM_NONLENSES_DIR,\n",
    "    hsc_lenses        = HSC_DEG_LENSES_DIR,\n",
    "    hsc_nonlenses     = HSC_DEG_NONLENSES_DIR,\n",
    "\n",
    "    # 데이터로더\n",
    "    batch_size        = 8,\n",
    "    num_workers       = 2,\n",
    "    no_augment        = False,\n",
    "    take_train_frac   = 0.001,   # 아주 작은 샘플만 사용\n",
    "    take_val_fraction   = 0.001,   # 아주 작은 샘플만 사용\n",
    "    take_test_fraction   = 0.001,   # 아주 작은 샘플만 사용\n",
    "\n",
    "    # --- preprocessing toggles (NEW) ---\n",
    "    apply_padding        = True,      # center reflect-pad 41->64\n",
    "    out_size_when_padded = 64,\n",
    "    apply_normalization  = True,      # bkg-sub -> (clip) -> z-score\n",
    "    clip_q               = 0.997,     # set to None for pure z-score (no clipping)\n",
    "    low_clip_q           = None,      # e.g., 0.005 if you want low-tail clip too\n",
    "    use_mad              = False,     # True => robust median/MAD instead of mean/std\n",
    "    smoothing_mode=\"none\",\n",
    "    gaussian_sigma=0,\n",
    "    guided_radius=0,\n",
    "    guided_eps=0,\n",
    "    \n",
    "    # split\n",
    "    train_frac        = 0.70,\n",
    "    val_frac          = 0.15,\n",
    "    test_frac         = 0.15,\n",
    "\n",
    "    # 모델\n",
    "    model_size        = \"atto\",\n",
    "    drop_path         = 0.0,\n",
    "\n",
    "    # Optim\n",
    "    lr                = 1e-3,\n",
    "    weight_decay      = 1e-4,\n",
    "    cosine            = False,\n",
    "    warmup_epochs     = 0,\n",
    "\n",
    "    # Train\n",
    "    epochs            = 5,       # 딱 1 epoch만\n",
    "    patience          = 2,\n",
    "    min_delta         = 0.0,\n",
    "    seed              = 42,\n",
    "    device            = \"cuda\" if torch.cuda.is_available() else \"cpu\",\n",
    "\n",
    "    # Save\n",
    "    save_dir          = \"./_dbg_ckpt_train\",\n",
    "    log_every         = 1,\n",
    ")\n",
    "\n",
    "os.makedirs(args.save_dir, exist_ok=True)\n",
    "\n",
    "# %%\n",
    "# 🚀 디버그 실행\n",
    "train.main(args)\n"
   ]
  },
  {
   "cell_type": "code",
   "execution_count": 13,
   "id": "60ea44b4-c2d4-4780-856d-291e860c512d",
   "metadata": {
    "execution": {
     "iopub.execute_input": "2025-09-05T06:44:27.769655Z",
     "iopub.status.busy": "2025-09-05T06:44:27.769239Z",
     "iopub.status.idle": "2025-09-05T06:44:32.630474Z",
     "shell.execute_reply": "2025-09-05T06:44:32.629479Z",
     "shell.execute_reply.started": "2025-09-05T06:44:27.769613Z"
    },
    "tags": []
   },
   "outputs": [
    {
     "name": "stderr",
     "output_type": "stream",
     "text": [
      "2025-09-05 15:44:27,786 [INFO] [predict] 📦 Building dataloaders...\n",
      "2025-09-05 15:44:31,426 [INFO] [predict] Split sizes -> train:699998  val:149999  test:150001\n",
      "2025-09-05 15:44:31,428 [INFO] [predict] 🧠 Loading model...\n",
      "2025-09-05 15:44:31,584 [INFO] [predict] 🚀 Inference on split: test\n",
      "2025-09-05 15:44:32,175 [INFO] [predict] ✅ TEST | Acc=0.3000 | AUC=0.1250 | N=10\n",
      "2025-09-05 15:44:32,180 [INFO] [predict] 💾 Saved per-sample CSV → ./_dbg_pred_outputs/pred_test.csv\n",
      "2025-09-05 15:44:32,210 [INFO] [predict] 💾 Saved NPY arrays for test split\n",
      "2025-09-05 15:44:32,211 [INFO] [predict] 🎯 Done.\n"
     ]
    }
   ],
   "source": [
    "# %%\n",
    "# predict.py 디버그 블럭 (주피터용)\n",
    "import types\n",
    "import torch\n",
    "#import osW\n",
    "import sys\n",
    "from pathlib import Path\n",
    "\n",
    "# 프로젝트 경로 설정\n",
    "PROJECT_ROOT = Path(\"/caefs/user/mmingyeong/2508_slchallence\")\n",
    "SRC_DIR = PROJECT_ROOT / \"src\"\n",
    "sys.path.insert(0, str(SRC_DIR))\n",
    "\n",
    "import predict as predict  # predict.py 모듈 임포트\n",
    "\n",
    "# 데이터 경로 설정\n",
    "SLSIM_LENSES_DIR      = \"/caefs/data/IllustrisTNG/slchallenge/slsim_lenses/slsim_lenses\"\n",
    "SLSIM_NONLENSES_DIR   = \"/caefs/data/IllustrisTNG/slchallenge/slsim_nonlenses/slsim_nonlenses\"\n",
    "HSC_DEG_LENSES_DIR    = \"/caefs/data/IllustrisTNG/slchallenge/hsc_lenses/hsc_lenses\"\n",
    "HSC_DEG_NONLENSES_DIR = \"/caefs/data/IllustrisTNG/slchallenge/hsc_nonlenses/hsc_nonlenses\"\n",
    "\n",
    "# 모델 체크포인트 (train.py에서 생성된 best.pt 사용)\n",
    "MODEL_PATH = \"./_dbg_ckpt_train/best.pt\"\n",
    "\n",
    "# 디버그용 args 설정\n",
    "args = types.SimpleNamespace(\n",
    "    # 데이터 경로\n",
    "    slsim_lenses      = SLSIM_LENSES_DIR,\n",
    "    slsim_nonlenses   = SLSIM_NONLENSES_DIR,\n",
    "    hsc_lenses        = HSC_DEG_LENSES_DIR,\n",
    "    hsc_nonlenses     = HSC_DEG_NONLENSES_DIR,\n",
    "\n",
    "    # 실행할 split (train/val/test/all 중 선택)\n",
    "    which             = \"test\",\n",
    "\n",
    "    # 데이터로더 설정\n",
    "    batch_size        = 16,\n",
    "    num_workers       = 2,\n",
    "    train_frac        = 0.7,\n",
    "    val_frac          = 0.15,\n",
    "    test_frac         = 0.15,\n",
    "    seed              = 42,\n",
    "\n",
    "    # 샘플링 (디버그 시 속도 높이기 위해 소량만 사용 가능)\n",
    "    take_test_fraction  = None,\n",
    "    max_samples = 10,              # ← 이 한 줄만으로 1개만 추론\n",
    "\n",
    "    # 모델 설정\n",
    "    model_path        = MODEL_PATH,\n",
    "    model_size        = \"atto\",\n",
    "    drop_path         = 0.0,\n",
    "\n",
    "    # 디바이스 & 출력 경로\n",
    "    device            = \"cuda\" if torch.cuda.is_available() else \"cpu\",\n",
    "    output_dir        = \"./_dbg_pred_outputs\",\n",
    ")\n",
    "\n",
    "# 출력 폴더 생성\n",
    "os.makedirs(args.output_dir, exist_ok=True)\n",
    "\n",
    "# %%\n",
    "# 🚀 예측 실행\n",
    "predict.main(args)\n"
   ]
  },
  {
   "cell_type": "code",
   "execution_count": 14,
   "id": "40f8bd11-4955-45a0-b633-a2af07205ef5",
   "metadata": {
    "execution": {
     "iopub.execute_input": "2025-09-05T06:44:40.725157Z",
     "iopub.status.busy": "2025-09-05T06:44:40.724708Z",
     "iopub.status.idle": "2025-09-05T06:44:41.911878Z",
     "shell.execute_reply": "2025-09-05T06:44:41.911296Z",
     "shell.execute_reply.started": "2025-09-05T06:44:40.725118Z"
    },
    "tags": []
   },
   "outputs": [
    {
     "name": "stderr",
     "output_type": "stream",
     "text": [
      "2025-09-05 15:44:41,477 [INFO] Loaded NPY: N=10 (labels/probs) | preds=(10,)\n",
      "2025-09-05 15:44:41,496 [INFO] Saved metrics JSON → /caefs/user/mmingyeong/2508_slchallence/_dbg_eval_outputs/metrics_test.json\n",
      "2025-09-05 15:44:41,500 [INFO] Saved metrics CSV → /caefs/user/mmingyeong/2508_slchallence/_dbg_eval_outputs/metrics_test.csv\n",
      "2025-09-05 15:44:41,908 [INFO] Saved ROC/PR/Calibration plots.\n",
      "2025-09-05 15:44:41,909 [INFO] Done.\n"
     ]
    }
   ],
   "source": [
    "# %%\n",
    "# evaluate.py 디버그 블럭 (주피터용)\n",
    "import types\n",
    "import sys\n",
    "from pathlib import Path\n",
    "\n",
    "# 경로 설정\n",
    "PROJECT_ROOT = Path(\"/caefs/user/mmingyeong/2508_slchallence\")\n",
    "SRC_DIR = PROJECT_ROOT / \"src\"\n",
    "sys.path.insert(0, str(SRC_DIR))\n",
    "\n",
    "import evaluate as evaluate  # evaluate.py 임포트\n",
    "\n",
    "# 평가 입력 경로 설정 (predict.py 출력 결과)\n",
    "PRED_OUTPUT_DIR = PROJECT_ROOT / \"_dbg_pred_outputs\"\n",
    "LABELS_PATH = PRED_OUTPUT_DIR / \"labels_test.npy\"\n",
    "PROBS_PATH  = PRED_OUTPUT_DIR / \"probs_test.npy\"\n",
    "PREDS_PATH  = PRED_OUTPUT_DIR / \"preds_test.npy\"\n",
    "\n",
    "# 출력 경로\n",
    "EVAL_OUT_DIR = PROJECT_ROOT / \"_dbg_eval_outputs\"\n",
    "EVAL_OUT_DIR.mkdir(exist_ok=True)\n",
    "\n",
    "# 디버그 args 설정\n",
    "args = types.SimpleNamespace(\n",
    "    tag=\"test\",                # 결과 파일 이름 접두사\n",
    "    from_csv=False,            # CSV 대신 NPY로 로드\n",
    "    from_npy=True,\n",
    "    csv=None,\n",
    "    labels=str(LABELS_PATH),\n",
    "    probs=str(PROBS_PATH),\n",
    "    preds=str(PREDS_PATH),\n",
    "    threshold=0.5,             # 임계값\n",
    "    optimize_threshold=False,  # 최적 threshold 찾기 비활성화\n",
    "    per_domain=False,          # domain별 분석 비활성화\n",
    "    plot=True,                 # ROC/PR/Calibration 그래프 저장\n",
    "    out_dir=str(EVAL_OUT_DIR),\n",
    "    seed=42\n",
    ")\n",
    "\n",
    "# %%\n",
    "# 🚀 평가 실행\n",
    "evaluate.main(args)\n"
   ]
  },
  {
   "cell_type": "code",
   "execution_count": null,
   "id": "fe09317f-9796-4363-920e-1b64ad9b2744",
   "metadata": {},
   "outputs": [],
   "source": []
  }
 ],
 "metadata": {
  "kernelspec": {
   "display_name": "Python (py312)",
   "language": "python",
   "name": "py312"
  },
  "language_info": {
   "codemirror_mode": {
    "name": "ipython",
    "version": 3
   },
   "file_extension": ".py",
   "mimetype": "text/x-python",
   "name": "python",
   "nbconvert_exporter": "python",
   "pygments_lexer": "ipython3",
   "version": "3.12.0"
  }
 },
 "nbformat": 4,
 "nbformat_minor": 5
}
